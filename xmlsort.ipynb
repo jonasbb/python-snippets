{
 "cells": [
  {
   "cell_type": "code",
   "execution_count": 207,
   "metadata": {},
   "outputs": [],
   "source": [
    "from xml.dom.minidom import parseString\n",
    "from xml.dom import Node\n",
    "from typing import Any\n",
    "from functools import cmp_to_key"
   ]
  },
  {
   "cell_type": "code",
   "execution_count": 208,
   "metadata": {},
   "outputs": [],
   "source": [
    "data = \"\"\"\n",
    "<root>\n",
    "<c>\n",
    "    <b/>\n",
    "</c>\n",
    "<d/>\n",
    "<c>\n",
    "    <x/>\n",
    "</c>\n",
    "<a>\n",
    "    foobar\n",
    "</a>\n",
    "<!-- Comment -->\n",
    "<c/>\n",
    "<b/>\n",
    "<c>\n",
    "    <a/>\n",
    "</c>\n",
    "<e name=\"456\"/>\n",
    "<e/>\n",
    "<e name=\"123\"/>\n",
    "</root>\n",
    "\"\"\""
   ]
  },
  {
   "cell_type": "code",
   "execution_count": 209,
   "metadata": {},
   "outputs": [],
   "source": [
    "tree = parseString(data)"
   ]
  },
  {
   "cell_type": "code",
   "execution_count": 210,
   "metadata": {},
   "outputs": [],
   "source": [
    "def node_less(l, r):\n",
    "    # Sort nodes in this order:\n",
    "    # 1. by name\n",
    "    # 2. by comparing the (attribute name, attribute value) pairs\n",
    "    # 3. by comparing the number of child nodes\n",
    "    # 4. by comparing the children recursively until the first difference is found\n",
    "    #\n",
    "    # if nothing is found, the nodes compare equal\n",
    "    if l.nodeName < r.nodeName:\n",
    "        return -1\n",
    "    elif l.nodeName > r.nodeName:\n",
    "        return 1\n",
    "    elif extract_attributes(l) < extract_attributes(r):\n",
    "        return -1\n",
    "    elif extract_attributes(l) > extract_attributes(r):\n",
    "        return 1\n",
    "    elif len(l.childNodes) < len(r.childNodes):\n",
    "        return -1\n",
    "    elif len(l.childNodes) > len(r.childNodes):\n",
    "        return 1\n",
    "    for i in range(min(len(l.childNodes), len(r.childNodes))):\n",
    "        c = node_less(l.childNodes[i], r.childNodes[i])\n",
    "        if c != 0:\n",
    "            return c\n",
    "\n",
    "    return 0\n",
    "\n",
    "\n",
    "def extract_attributes(tree) -> Any:\n",
    "    res = []\n",
    "    if tree.attributes is not None:\n",
    "        for i in range(tree.attributes.length):\n",
    "            attr = tree.attributes.item(i)\n",
    "            res.append((attr.name, attr.value))\n",
    "    return res\n",
    "\n",
    "def sort_nodes(tree) -> Any:\n",
    "    L = []\n",
    "    tree.normalize()\n",
    "    for child in tree.childNodes:\n",
    "        # Remove whitespace\n",
    "        if child.nodeType == Node.TEXT_NODE:\n",
    "            child.nodeValue = child.nodeValue.strip()\n",
    "            if child.nodeValue == \"\":\n",
    "                continue\n",
    "        elif child.nodeType in (Node.COMMENT_NODE, Node.PROCESSING_INSTRUCTION_NODE):\n",
    "            continue\n",
    "        L.append(sort_nodes(child))\n",
    "\n",
    "    L.sort(key=cmp_to_key(node_less))\n",
    "\n",
    "    if len(L) > 0:\n",
    "        tree.childNodes[:] = L\n",
    "    return tree"
   ]
  },
  {
   "cell_type": "code",
   "execution_count": null,
   "metadata": {},
   "outputs": [],
   "source": []
  }
 ],
 "metadata": {
  "kernelspec": {
   "display_name": "Python 3",
   "language": "python",
   "name": "python3"
  },
  "language_info": {
   "codemirror_mode": {
    "name": "ipython",
    "version": 3
   },
   "file_extension": ".py",
   "mimetype": "text/x-python",
   "name": "python",
   "nbconvert_exporter": "python",
   "pygments_lexer": "ipython3",
   "version": "3.12.3"
  }
 },
 "nbformat": 4,
 "nbformat_minor": 2
}
